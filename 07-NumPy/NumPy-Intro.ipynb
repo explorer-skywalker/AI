{
 "cells": [
  {
   "cell_type": "markdown",
   "source": [
    "# Introduction To NumPy..."
   ],
   "metadata": {}
  },
  {
   "cell_type": "markdown",
   "source": [
    "    >_ NumPy, Numerical Python."
   ],
   "metadata": {}
  },
  {
   "cell_type": "markdown",
   "source": [
    "    >_ Faster then normal python lists, Useful in ML calculations.."
   ],
   "metadata": {}
  },
  {
   "cell_type": "code",
   "execution_count": 1,
   "source": [
    "import numpy as np"
   ],
   "outputs": [],
   "metadata": {}
  },
  {
   "cell_type": "markdown",
   "source": [
    "## Datatypes & Attributes ;"
   ],
   "metadata": {}
  },
  {
   "cell_type": "markdown",
   "source": [
    "    >_  NumPy has only one datatype named \" ndarray \"."
   ],
   "metadata": {}
  },
  {
   "cell_type": "markdown",
   "source": [
    "    >_ \" ndarray \" means, n dimentional array.."
   ],
   "metadata": {}
  },
  {
   "cell_type": "code",
   "execution_count": 3,
   "source": [
    "ArrayOne = np.array([1, 2, 3, 4, 5])\r\n",
    "ArrayOne"
   ],
   "outputs": [
    {
     "output_type": "execute_result",
     "data": {
      "text/plain": [
       "array([1, 2, 3, 4, 5])"
      ]
     },
     "metadata": {},
     "execution_count": 3
    }
   ],
   "metadata": {}
  },
  {
   "cell_type": "code",
   "execution_count": 5,
   "source": [
    "type(ArrayOne)"
   ],
   "outputs": [
    {
     "output_type": "execute_result",
     "data": {
      "text/plain": [
       "numpy.ndarray"
      ]
     },
     "metadata": {},
     "execution_count": 5
    }
   ],
   "metadata": {}
  },
  {
   "cell_type": "code",
   "execution_count": null,
   "source": [],
   "outputs": [],
   "metadata": {}
  },
  {
   "cell_type": "code",
   "execution_count": null,
   "source": [],
   "outputs": [],
   "metadata": {}
  },
  {
   "cell_type": "code",
   "execution_count": null,
   "source": [],
   "outputs": [],
   "metadata": {}
  }
 ],
 "metadata": {
  "orig_nbformat": 4,
  "language_info": {
   "name": "python",
   "version": "3.9.7",
   "mimetype": "text/x-python",
   "codemirror_mode": {
    "name": "ipython",
    "version": 3
   },
   "pygments_lexer": "ipython3",
   "nbconvert_exporter": "python",
   "file_extension": ".py"
  },
  "kernelspec": {
   "name": "python3",
   "display_name": "Python 3.9.7 64-bit"
  },
  "interpreter": {
   "hash": "63fd5069d213b44bf678585dea6b12cceca9941eaf7f819626cde1f2670de90d"
  }
 },
 "nbformat": 4,
 "nbformat_minor": 2
}